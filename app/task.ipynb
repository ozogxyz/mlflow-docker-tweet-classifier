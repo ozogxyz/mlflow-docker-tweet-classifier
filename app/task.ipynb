{
 "cells": [
  {
   "cell_type": "code",
   "execution_count": 7,
   "metadata": {
    "colab": {
     "base_uri": "https://localhost:8080/"
    },
    "id": "MwBt5i4cj7Ej",
    "outputId": "c2a52878-7a8c-4fa2-f57a-da87d93585ef"
   },
   "outputs": [
    {
     "name": "stdout",
     "output_type": "stream",
     "text": [
      "Mounted at /content/drive\n"
     ]
    }
   ],
   "source": [
    "from google.colab import drive\n",
    "drive.mount('/content/drive')"
   ]
  },
  {
   "cell_type": "code",
   "execution_count": 8,
   "metadata": {
    "colab": {
     "base_uri": "https://localhost:8080/"
    },
    "id": "pvfQ5vuvkAoR",
    "outputId": "5293e8a1-986b-48f8-c246-7b285bdd683b"
   },
   "outputs": [
    {
     "name": "stdout",
     "output_type": "stream",
     "text": [
      "/content/drive/MyDrive/Colab/HSE/LSML_2/Project\n"
     ]
    }
   ],
   "source": [
    "cd /content/drive/MyDrive/Colab/HSE/LSML_2/Project"
   ]
  },
  {
   "cell_type": "code",
   "execution_count": 9,
   "metadata": {
    "colab": {
     "base_uri": "https://localhost:8080/"
    },
    "id": "KurTEa1gkHFf",
    "outputId": "d926851b-a0ba-46bd-f311-83e331aebaef"
   },
   "outputs": [
    {
     "name": "stdout",
     "output_type": "stream",
     "text": [
      "task_bow.ipynb  test_tweets.csv  train_val_tweets.csv\n"
     ]
    }
   ],
   "source": [
    "ls"
   ]
  },
  {
   "cell_type": "markdown",
   "metadata": {
    "id": "7OIv0w-Z0nLf"
   },
   "source": [
    "### Toxic or not\n",
    "Your main goal in this assignment is to classify, whether the comments are toxic or not. And practice with both classical approaches and PyTorch in the process.\n",
    "\n",
    "Credits:\n",
    "\n",
    "1) This notebook is inspired by [YSDA NLP_course](https://github.com/yandexdataschool/nlp_course)\n",
    "\n",
    "2) This notebook is originally from this beautiful repo [girafe.ai](https://github.com/girafe-ai/natural-language-processing) HW's\n",
    "\n",
    "3) Data Courtesy from this [useful epo](https://github.com/sharmaroshan/Twitter-Sentiment-Analysis)\n",
    "\n",
    "4) Some parts is inspired from this [amazing repo](https://github.com/rasbt/python-machine-learning-book/tree/master/code)"
   ]
  },
  {
   "cell_type": "code",
   "execution_count": 1,
   "metadata": {
    "colab": {
     "base_uri": "https://localhost:8080/"
    },
    "id": "NZe0k4OujYhY",
    "outputId": "43bfa96b-d1ce-4fae-d70c-e3089956e54c"
   },
   "outputs": [
    {
     "name": "stderr",
     "output_type": "stream",
     "text": [
      "[nltk_data] Downloading package stopwords to\n",
      "[nltk_data]     /home/bharani/nltk_data...\n",
      "[nltk_data]   Package stopwords is already up-to-date!\n"
     ]
    }
   ],
   "source": [
    "import numpy as np\n",
    "import matplotlib.pyplot as plt\n",
    "%matplotlib inline\n",
    "import pandas as pd\n",
    "from sklearn.model_selection import train_test_split\n",
    "from nltk.tokenize import TweetTokenizer\n",
    "from sklearn.feature_extraction.text import TfidfVectorizer\n",
    "from sklearn.pipeline import Pipeline\n",
    "from sklearn.linear_model import LogisticRegression\n",
    "from sklearn.linear_model import SGDClassifier\n",
    "from sklearn.ensemble import RandomForestClassifier\n",
    "from xgboost import XGBClassifier\n",
    "from sklearn import tree\n",
    "from sklearn.metrics import roc_auc_score, roc_curve, accuracy_score\n",
    "from sklearn import svm\n",
    "from sklearn import tree\n",
    "import nltk.data\n",
    "nltk.download('stopwords')\n",
    "from nltk.corpus import stopwords\n",
    "import pickle\n",
    "import re\n",
    "import sys\n",
    "from sklearn.model_selection import GridSearchCV"
   ]
  },
  {
   "cell_type": "code",
   "execution_count": 2,
   "metadata": {
    "colab": {
     "base_uri": "https://localhost:8080/"
    },
    "id": "S4pKLwI1jYhg",
    "outputId": "7cc787ed-37c8-484a-aa58-0fc16acf68a9"
   },
   "outputs": [
    {
     "name": "stdout",
     "output_type": "stream",
     "text": [
      "(25569,) (6393,) (25569,) (6393,)\n"
     ]
    }
   ],
   "source": [
    "train_val = pd.read_csv('train_val_tweets.csv')\n",
    "texts = train_val['tweet'].values\n",
    "target = train_val['label'].values\n",
    "texts_train, texts_test, y_train, y_test = train_test_split(texts, target, test_size=0.2, random_state=42)\n",
    "print(texts_train.shape, texts_test.shape, y_train.shape, y_test.shape)"
   ]
  },
  {
   "cell_type": "markdown",
   "metadata": {
    "id": "32-o_RHs0nLn"
   },
   "source": [
    "__Note:__ it is generally a good idea to split data into train/test before anything is done to them.\n",
    "\n",
    "It guards you against possible data leakage in the preprocessing stage. For example, should you decide to select words present in obscene tweets as features, you should only count those words over the training set. Otherwise your algoritm can cheat evaluation."
   ]
  },
  {
   "cell_type": "markdown",
   "metadata": {
    "id": "fe_5vdbo0nLo"
   },
   "source": [
    "### Preprocessing and tokenization\n",
    "\n",
    "Comments contain raw text with punctuation, upper/lowercase letters and even newline symbols.\n",
    "\n",
    "To simplify all further steps, we'll split text into space-separated tokens using one of nltk tokenizers.\n",
    "\n",
    "Generally, library `nltk` [link](https://www.nltk.org) is widely used in NLP. It is not necessary in here, but mentioned to intoduce it to you."
   ]
  },
  {
   "cell_type": "code",
   "execution_count": 3,
   "metadata": {
    "id": "NZNH-Ri-jYhj"
   },
   "outputs": [],
   "source": [
    "def preprocessor(text):\n",
    "    text = re.sub('<[^>]*>', '', text)\n",
    "    emoticons = re.findall('(?::|;|=)(?:-)?(?:\\)|\\(|D|P)', text)\n",
    "    text = re.sub('[\\W]+', ' ', text.lower()) +\\\n",
    "        ' '.join(emoticons).replace('-', '')\n",
    "    tokenizer = TweetTokenizer()\n",
    "    text = ' '.join(tokenizer.tokenize(text.lower()))\n",
    "    return text\n",
    "\n",
    "texts_train = [preprocessor(t) for t in texts_train]\n",
    "texts_test = [preprocessor(t) for t in texts_test]"
   ]
  },
  {
   "cell_type": "markdown",
   "metadata": {
    "id": "V0t8jMEIjYhl"
   },
   "source": [
    "### Build Model and Train"
   ]
  },
  {
   "cell_type": "code",
   "execution_count": 4,
   "metadata": {
    "id": "WhNojM6-jYhm"
   },
   "outputs": [],
   "source": [
    "import sys\n",
    "\n",
    "if not sys.warnoptions:\n",
    "    import warnings\n",
    "    warnings.simplefilter(\"ignore\")"
   ]
  },
  {
   "cell_type": "code",
   "execution_count": 5,
   "metadata": {
    "colab": {
     "base_uri": "https://localhost:8080/",
     "height": 560
    },
    "id": "Ou73Ls1RFJS3",
    "outputId": "46cfe98f-3f1a-4852-f301-052351388dc3"
   },
   "outputs": [
    {
     "name": "stdout",
     "output_type": "stream",
     "text": [
      "classifier algorithm = lr\n",
      "Number of mislabeled points out of a total 6393 points : 333\n",
      "Test Accuracy: 0.948\n"
     ]
    },
    {
     "name": "stderr",
     "output_type": "stream",
     "text": [
      "/home/bharani/.conda/envs/Edu/lib/python3.10/site-packages/sklearn/linear_model/_stochastic_gradient.py:173: FutureWarning: The loss 'log' was deprecated in v1.1 and will be removed in version 1.3. Use `loss='log_loss'` which is equivalent.\n",
      "  warnings.warn(\n",
      "/home/bharani/.conda/envs/Edu/lib/python3.10/site-packages/sklearn/linear_model/_stochastic_gradient.py:173: FutureWarning: The loss 'log' was deprecated in v1.1 and will be removed in version 1.3. Use `loss='log_loss'` which is equivalent.\n",
      "  warnings.warn(\n",
      "/home/bharani/.conda/envs/Edu/lib/python3.10/site-packages/sklearn/linear_model/_stochastic_gradient.py:173: FutureWarning: The loss 'log' was deprecated in v1.1 and will be removed in version 1.3. Use `loss='log_loss'` which is equivalent.\n",
      "  warnings.warn(\n",
      "/home/bharani/.conda/envs/Edu/lib/python3.10/site-packages/sklearn/linear_model/_stochastic_gradient.py:173: FutureWarning: The loss 'log' was deprecated in v1.1 and will be removed in version 1.3. Use `loss='log_loss'` which is equivalent.\n",
      "  warnings.warn(\n",
      "/home/bharani/.conda/envs/Edu/lib/python3.10/site-packages/sklearn/linear_model/_stochastic_gradient.py:173: FutureWarning: The loss 'log' was deprecated in v1.1 and will be removed in version 1.3. Use `loss='log_loss'` which is equivalent.\n",
      "  warnings.warn(\n",
      "/home/bharani/.conda/envs/Edu/lib/python3.10/site-packages/sklearn/linear_model/_stochastic_gradient.py:173: FutureWarning: The loss 'log' was deprecated in v1.1 and will be removed in version 1.3. Use `loss='log_loss'` which is equivalent.\n",
      "  warnings.warn(\n"
     ]
    },
    {
     "name": "stdout",
     "output_type": "stream",
     "text": [
      "classifier algorithm = sgd\n",
      "Number of mislabeled points out of a total 6393 points : 395\n",
      "Test Accuracy: 0.938\n",
      "classifier algorithm = rf\n",
      "Number of mislabeled points out of a total 6393 points : 277\n",
      "Test Accuracy: 0.957\n",
      "classifier algorithm = xgb\n",
      "Number of mislabeled points out of a total 6393 points : 318\n",
      "Test Accuracy: 0.950\n",
      "classifier algorithm = tree\n",
      "Number of mislabeled points out of a total 6393 points : 355\n",
      "Test Accuracy: 0.944\n",
      "CPU times: user 58.5 s, sys: 365 ms, total: 58.9 s\n",
      "Wall time: 1min 57s\n"
     ]
    }
   ],
   "source": [
    "%%time\n",
    "if not sys.warnoptions:\n",
    "    import warnings\n",
    "    warnings.simplefilter(\"ignore\")\n",
    "\n",
    "tfidf = TfidfVectorizer(strip_accents=None, lowercase=False, preprocessor=None)\n",
    "stop = stopwords.words('english')\n",
    "lr_clf = LogisticRegression(random_state=42)\n",
    "sgd_clf = SGDClassifier(loss='log_loss', random_state=42)\n",
    "rf_clf = RandomForestClassifier(n_estimators = 20, random_state=42)\n",
    "xgb_clf = XGBClassifier(random_state=42)\n",
    "tree_clf = tree.DecisionTreeClassifier(random_state=42)\n",
    "param_grid = [{'vect__ngram_range': [(1, 1)],\n",
    "               'vect__stop_words': [stop, None]},]\n",
    "\n",
    "\n",
    "all_classifiers = {'lr': lr_clf,\n",
    "                   'sgd': sgd_clf,\n",
    "                   'rf': rf_clf,\n",
    "                   'xgb': xgb_clf,\n",
    "                   'tree': tree_clf,\n",
    "                   }\n",
    "\n",
    "best_models = {}\n",
    "accuracy_dict = {}\n",
    "for clf_name, clf in all_classifiers.items():\n",
    "    tfidf_clf_pipe = Pipeline([('vect', tfidf), ('clf', clf)])\n",
    "    tfidf_clf_pipe_gs = GridSearchCV(tfidf_clf_pipe, param_grid,\n",
    "                               scoring='accuracy',\n",
    "                               verbose=0, cv=3,                            \n",
    "                               n_jobs=-1)\n",
    "\n",
    "    tfidf_clf_pipe_gs.fit(texts_train, y_train)\n",
    "    best_model = tfidf_clf_pipe_gs.best_estimator_\n",
    "    best_models[clf] = best_model\n",
    "    y_pred = best_model.predict(texts_test)\n",
    "    acc = accuracy_score(y_test, y_pred)\n",
    "    accuracy_dict[clf_name] = acc\n",
    "    print(f'classifier algorithm = {clf_name}')\n",
    "    print(\"Number of mislabeled points out of a total %d points : %d\" % (len(texts_test), (y_test != y_pred).sum()))\n",
    "    print('Test Accuracy: %.3f' % acc)"
   ]
  },
  {
   "cell_type": "code",
   "execution_count": 6,
   "outputs": [
    {
     "data": {
      "text/plain": "{'lr': 0.9479117785077429,\n 'sgd': 0.9382136712028781,\n 'rf': 0.9566713592992335,\n 'xgb': 0.9502580947911778,\n 'tree': 0.9444705146253715}"
     },
     "execution_count": 6,
     "metadata": {},
     "output_type": "execute_result"
    }
   ],
   "source": [
    "accuracy_dict"
   ],
   "metadata": {
    "collapsed": false
   }
  },
  {
   "cell_type": "code",
   "execution_count": 7,
   "metadata": {
    "colab": {
     "base_uri": "https://localhost:8080/"
    },
    "id": "ukOPTNSQjYho",
    "outputId": "e3065e84-fc3b-460e-e58f-edb55a4c14d0"
   },
   "outputs": [
    {
     "data": {
      "text/plain": "Pipeline(steps=[('vect', TfidfVectorizer(lowercase=False)),\n                ('clf',\n                 RandomForestClassifier(n_estimators=20, random_state=42))])",
      "text/html": "<style>#sk-container-id-1 {color: black;background-color: white;}#sk-container-id-1 pre{padding: 0;}#sk-container-id-1 div.sk-toggleable {background-color: white;}#sk-container-id-1 label.sk-toggleable__label {cursor: pointer;display: block;width: 100%;margin-bottom: 0;padding: 0.3em;box-sizing: border-box;text-align: center;}#sk-container-id-1 label.sk-toggleable__label-arrow:before {content: \"▸\";float: left;margin-right: 0.25em;color: #696969;}#sk-container-id-1 label.sk-toggleable__label-arrow:hover:before {color: black;}#sk-container-id-1 div.sk-estimator:hover label.sk-toggleable__label-arrow:before {color: black;}#sk-container-id-1 div.sk-toggleable__content {max-height: 0;max-width: 0;overflow: hidden;text-align: left;background-color: #f0f8ff;}#sk-container-id-1 div.sk-toggleable__content pre {margin: 0.2em;color: black;border-radius: 0.25em;background-color: #f0f8ff;}#sk-container-id-1 input.sk-toggleable__control:checked~div.sk-toggleable__content {max-height: 200px;max-width: 100%;overflow: auto;}#sk-container-id-1 input.sk-toggleable__control:checked~label.sk-toggleable__label-arrow:before {content: \"▾\";}#sk-container-id-1 div.sk-estimator input.sk-toggleable__control:checked~label.sk-toggleable__label {background-color: #d4ebff;}#sk-container-id-1 div.sk-label input.sk-toggleable__control:checked~label.sk-toggleable__label {background-color: #d4ebff;}#sk-container-id-1 input.sk-hidden--visually {border: 0;clip: rect(1px 1px 1px 1px);clip: rect(1px, 1px, 1px, 1px);height: 1px;margin: -1px;overflow: hidden;padding: 0;position: absolute;width: 1px;}#sk-container-id-1 div.sk-estimator {font-family: monospace;background-color: #f0f8ff;border: 1px dotted black;border-radius: 0.25em;box-sizing: border-box;margin-bottom: 0.5em;}#sk-container-id-1 div.sk-estimator:hover {background-color: #d4ebff;}#sk-container-id-1 div.sk-parallel-item::after {content: \"\";width: 100%;border-bottom: 1px solid gray;flex-grow: 1;}#sk-container-id-1 div.sk-label:hover label.sk-toggleable__label {background-color: #d4ebff;}#sk-container-id-1 div.sk-serial::before {content: \"\";position: absolute;border-left: 1px solid gray;box-sizing: border-box;top: 0;bottom: 0;left: 50%;z-index: 0;}#sk-container-id-1 div.sk-serial {display: flex;flex-direction: column;align-items: center;background-color: white;padding-right: 0.2em;padding-left: 0.2em;position: relative;}#sk-container-id-1 div.sk-item {position: relative;z-index: 1;}#sk-container-id-1 div.sk-parallel {display: flex;align-items: stretch;justify-content: center;background-color: white;position: relative;}#sk-container-id-1 div.sk-item::before, #sk-container-id-1 div.sk-parallel-item::before {content: \"\";position: absolute;border-left: 1px solid gray;box-sizing: border-box;top: 0;bottom: 0;left: 50%;z-index: -1;}#sk-container-id-1 div.sk-parallel-item {display: flex;flex-direction: column;z-index: 1;position: relative;background-color: white;}#sk-container-id-1 div.sk-parallel-item:first-child::after {align-self: flex-end;width: 50%;}#sk-container-id-1 div.sk-parallel-item:last-child::after {align-self: flex-start;width: 50%;}#sk-container-id-1 div.sk-parallel-item:only-child::after {width: 0;}#sk-container-id-1 div.sk-dashed-wrapped {border: 1px dashed gray;margin: 0 0.4em 0.5em 0.4em;box-sizing: border-box;padding-bottom: 0.4em;background-color: white;}#sk-container-id-1 div.sk-label label {font-family: monospace;font-weight: bold;display: inline-block;line-height: 1.2em;}#sk-container-id-1 div.sk-label-container {text-align: center;}#sk-container-id-1 div.sk-container {/* jupyter's `normalize.less` sets `[hidden] { display: none; }` but bootstrap.min.css set `[hidden] { display: none !important; }` so we also need the `!important` here to be able to override the default hidden behavior on the sphinx rendered scikit-learn.org. See: https://github.com/scikit-learn/scikit-learn/issues/21755 */display: inline-block !important;position: relative;}#sk-container-id-1 div.sk-text-repr-fallback {display: none;}</style><div id=\"sk-container-id-1\" class=\"sk-top-container\"><div class=\"sk-text-repr-fallback\"><pre>Pipeline(steps=[(&#x27;vect&#x27;, TfidfVectorizer(lowercase=False)),\n                (&#x27;clf&#x27;,\n                 RandomForestClassifier(n_estimators=20, random_state=42))])</pre><b>In a Jupyter environment, please rerun this cell to show the HTML representation or trust the notebook. <br />On GitHub, the HTML representation is unable to render, please try loading this page with nbviewer.org.</b></div><div class=\"sk-container\" hidden><div class=\"sk-item sk-dashed-wrapped\"><div class=\"sk-label-container\"><div class=\"sk-label sk-toggleable\"><input class=\"sk-toggleable__control sk-hidden--visually\" id=\"sk-estimator-id-1\" type=\"checkbox\" ><label for=\"sk-estimator-id-1\" class=\"sk-toggleable__label sk-toggleable__label-arrow\">Pipeline</label><div class=\"sk-toggleable__content\"><pre>Pipeline(steps=[(&#x27;vect&#x27;, TfidfVectorizer(lowercase=False)),\n                (&#x27;clf&#x27;,\n                 RandomForestClassifier(n_estimators=20, random_state=42))])</pre></div></div></div><div class=\"sk-serial\"><div class=\"sk-item\"><div class=\"sk-estimator sk-toggleable\"><input class=\"sk-toggleable__control sk-hidden--visually\" id=\"sk-estimator-id-2\" type=\"checkbox\" ><label for=\"sk-estimator-id-2\" class=\"sk-toggleable__label sk-toggleable__label-arrow\">TfidfVectorizer</label><div class=\"sk-toggleable__content\"><pre>TfidfVectorizer(lowercase=False)</pre></div></div></div><div class=\"sk-item\"><div class=\"sk-estimator sk-toggleable\"><input class=\"sk-toggleable__control sk-hidden--visually\" id=\"sk-estimator-id-3\" type=\"checkbox\" ><label for=\"sk-estimator-id-3\" class=\"sk-toggleable__label sk-toggleable__label-arrow\">RandomForestClassifier</label><div class=\"sk-toggleable__content\"><pre>RandomForestClassifier(n_estimators=20, random_state=42)</pre></div></div></div></div></div></div></div>"
     },
     "execution_count": 7,
     "metadata": {},
     "output_type": "execute_result"
    }
   ],
   "source": [
    "best_model = RandomForestClassifier(n_estimators=20, random_state=42)\n",
    "best_pipe = Pipeline([('vect', tfidf), ('clf', best_model)])\n",
    "best_pipe.fit(texts_train, y_train)"
   ]
  },
  {
   "cell_type": "code",
   "execution_count": 8,
   "metadata": {
    "colab": {
     "base_uri": "https://localhost:8080/"
    },
    "id": "w8fsbylujYho",
    "outputId": "4c434a83-9b67-4833-b25c-82a9746c5afe"
   },
   "outputs": [
    {
     "name": "stdout",
     "output_type": "stream",
     "text": [
      "Number of mislabeled points out of a total 6393 points : 280\n"
     ]
    }
   ],
   "source": [
    "y_pred = best_pipe.predict(texts_test)\n",
    "\n",
    "y_true = y_test\n",
    "acc = accuracy_score(y_true, y_pred)\n",
    "print(\"Number of mislabeled points out of a total %d points : %d\" \\\n",
    "          % (len(texts_test), (y_test != y_pred).sum()))"
   ]
  },
  {
   "cell_type": "code",
   "execution_count": 9,
   "metadata": {
    "colab": {
     "base_uri": "https://localhost:8080/",
     "height": 265
    },
    "id": "RCnW3WvKjYhp",
    "outputId": "90fc32f7-cbe8-4a3e-cc65-70bdef8d594a"
   },
   "outputs": [
    {
     "data": {
      "text/plain": "<Figure size 640x480 with 1 Axes>",
      "image/png": "[encoded data removed]"
     },
     "metadata": {},
     "output_type": "display_data"
    }
   ],
   "source": [
    "for name, X, y, model in [\n",
    "    ('train', texts_train, y_train, best_pipe),\n",
    "    ('test ', texts_test, y_test, best_pipe)\n",
    "]:\n",
    "    proba = model.predict_proba(X)[:, 1]\n",
    "    auc = roc_auc_score(y, proba)\n",
    "    plt.plot(*roc_curve(y, proba)[:2], label='%s AUC=%.4f' % (name, auc))\n",
    "\n",
    "plt.plot([0, 1], [0, 1], '--', color='black',)\n",
    "plt.legend(fontsize='large')\n",
    "plt.grid()"
   ]
  },
  {
   "cell_type": "code",
   "execution_count": 10,
   "metadata": {
    "id": "jYRCaP3FjYhp"
   },
   "outputs": [],
   "source": [
    "pickle.dump(best_model, open('best_pipe.pkl','wb'))"
   ]
  },
  {
   "cell_type": "code",
   "execution_count": 11,
   "metadata": {
    "id": "rJ21EH7TjYhq"
   },
   "outputs": [],
   "source": [
    "final_model = pickle.load(open('best_pipe.pkl', 'rb'))"
   ]
  },
  {
   "cell_type": "code",
   "execution_count": 12,
   "metadata": {},
   "outputs": [],
   "source": [
    "tfidf.fit(texts_train)\n",
    "pickle.dump(tfidf, open('tfidf.pkl','wb'))\n",
    "transformer = pickle.load(open('tfidf.pkl', 'rb'))"
   ]
  },
  {
   "cell_type": "code",
   "execution_count": 13,
   "metadata": {
    "colab": {
     "base_uri": "https://localhost:8080/"
    },
    "id": "0i9ZVxMNjYhr",
    "outputId": "d868f4e6-6b58-41d2-e755-456ec636b5e8"
   },
   "outputs": [
    {
     "name": "stdout",
     "output_type": "stream",
     "text": [
      "1\n"
     ]
    }
   ],
   "source": [
    "tweet = \"@user omfg i'm offended! i'm a  mailbox and i'm proud! #mailboxpride  #liberalisme\"\n",
    "\n",
    "prediction = final_model.predict(transformer.transform([preprocessor(t) for t in [tweet]]))[0]\n",
    "print(prediction)"
   ]
  },
  {
   "cell_type": "code",
   "execution_count": 14,
   "metadata": {
    "colab": {
     "base_uri": "https://localhost:8080/"
    },
    "id": "SYWSxwLQjYhr",
    "outputId": "c603d9a9-2b03-40dd-f6de-3d6418434b6b"
   },
   "outputs": [
    {
     "name": "stdout",
     "output_type": "stream",
     "text": [
      "0\n"
     ]
    }
   ],
   "source": [
    "tweet = \"Machine learning is amazing in every sense and i love it\"\n",
    "\n",
    "prediction = final_model.predict(transformer.transform([preprocessor(t) for t in [tweet]]))[0]\n",
    "print(prediction)"
   ]
  },
  {
   "cell_type": "code",
   "execution_count": 7,
   "metadata": {
    "id": "Dqo11UHYjYhs"
   },
   "outputs": [],
   "source": [
    "# sql\n",
    "import sqlite3\n",
    "import os\n",
    "\n",
    "if os.path.exists('toxic.sqlite'):\n",
    "    os.remove('toxic.sqlite')\n",
    "\n",
    "conn = sqlite3.connect('toxic.sqlite')\n",
    "c = conn.cursor()\n",
    "c.execute('CREATE TABLE toxic_db (tweet TEXT, toxic INTEGER)')\n",
    "\n",
    "tweet_1 = 'The world cup 2022 is in qatar and 32 teams are competing'\n",
    "c.execute(\"INSERT INTO toxic_db (tweet, toxic) VALUES (?, ?)\", (tweet_1, 1))\n",
    "\n",
    "tweet_2 = 'LSML final assignment has the pipeline of model, deploy and dockerize'\n",
    "c.execute(\"INSERT INTO toxic_db (tweet, toxic) VALUES (?, ?)\", (tweet_2, 0))\n",
    "\n",
    "conn.commit()\n",
    "conn.close()"
   ]
  },
  {
   "cell_type": "code",
   "execution_count": 8,
   "metadata": {},
   "outputs": [],
   "source": [
    "conn = sqlite3.connect('toxic.sqlite')\n",
    "c = conn.cursor()\n",
    "\n",
    "c.execute(\"SELECT * FROM toxic_db\")\n",
    "results = c.fetchall()\n",
    "\n",
    "conn.close()"
   ]
  },
  {
   "cell_type": "code",
   "execution_count": 9,
   "metadata": {},
   "outputs": [
    {
     "name": "stdout",
     "output_type": "stream",
     "text": [
      "[('The world cup 2022 is in qatar and 32 teams are competing', 1), ('LSML final assignment has the pipeline of model, deploy and dockerize', 0)]\n"
     ]
    }
   ],
   "source": [
    "print(results)"
   ]
  },
  {
   "cell_type": "code",
   "execution_count": null,
   "metadata": {},
   "outputs": [],
   "source": []
  }
 ],
 "metadata": {
  "accelerator": "GPU",
  "colab": {
   "machine_shape": "hm",
   "provenance": []
  },
  "gpuClass": "standard",
  "kernelspec": {
   "display_name": "Python 3 (ipykernel)",
   "language": "python",
   "name": "python3"
  },
  "language_info": {
   "codemirror_mode": {
    "name": "ipython",
    "version": 3
   },
   "file_extension": ".py",
   "mimetype": "text/x-python",
   "name": "python",
   "nbconvert_exporter": "python",
   "pygments_lexer": "ipython3",
   "version": "3.10.8"
  }
 },
 "nbformat": 4,
 "nbformat_minor": 1
}
