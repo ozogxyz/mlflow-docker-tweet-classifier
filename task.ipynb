{
 "cells": [
  {
   "cell_type": "code",
   "execution_count": 1,
   "outputs": [],
   "source": [
    "import mlflow.sklearn\n",
    "import pickle\n",
    "import numpy as np\n",
    "from sklearn.pipeline import Pipeline\n",
    "from sklearn.metrics import accuracy_score\n",
    "from sklearn.model_selection import GridSearchCV\n",
    "import pandas as pd\n",
    "import re\n",
    "from sklearn.model_selection import train_test_split\n",
    "from nltk.tokenize import TweetTokenizer\n",
    "from sklearn.feature_extraction.text import TfidfVectorizer\n",
    "from sklearn.linear_model import LogisticRegression\n",
    "from sklearn.linear_model import SGDClassifier\n",
    "from sklearn.ensemble import RandomForestClassifier\n",
    "from xgboost import XGBClassifier\n",
    "from sklearn import tree\n",
    "import nltk.data\n",
    "nltk.download('stopwords')\n",
    "from nltk.corpus import stopwords"
   ],
   "metadata": {
    "collapsed": false
   }
  },
  {
   "cell_type": "markdown",
   "source": [
    "### PreProcess Data"
   ],
   "metadata": {
    "collapsed": false
   }
  },
  {
   "cell_type": "code",
   "execution_count": 2,
   "outputs": [],
   "source": [
    "train_val = pd.read_csv('train_val_tweets.csv')\n",
    "texts = train_val['tweet'].values\n",
    "target = train_val['label'].values\n",
    "texts_train, texts_test, y_train, y_test = train_test_split(texts, target, test_size=0.2, random_state=42)\n",
    "\n",
    "\n",
    "def preprocessor(text):\n",
    "    text = re.sub('<[^>]*>', '', text)\n",
    "    emoticons = re.findall('(?::|;|=)(?:-)?(?:\\)|\\(|D|P)', text)\n",
    "    text = re.sub('[\\W]+', ' ', text.lower()) + \\\n",
    "           ' '.join(emoticons).replace('-', '')\n",
    "    tokenizer = TweetTokenizer()\n",
    "    text = ' '.join(tokenizer.tokenize(text.lower()))\n",
    "    return text\n",
    "\n",
    "\n",
    "texts_train = [preprocessor(t) for t in texts_train]\n",
    "texts_test = [preprocessor(t) for t in texts_test]\n"
   ],
   "metadata": {
    "collapsed": false
   }
  },
  {
   "cell_type": "markdown",
   "source": [
    "### Initialize all models"
   ],
   "metadata": {
    "collapsed": false
   }
  },
  {
   "cell_type": "code",
   "execution_count": 3,
   "outputs": [
    {
     "name": "stderr",
     "output_type": "stream",
     "text": [
      "[nltk_data] Downloading package stopwords to\n",
      "[nltk_data]     /home/bharani/nltk_data...\n",
      "[nltk_data]   Package stopwords is already up-to-date!\n"
     ]
    }
   ],
   "source": [
    "from nltk.tokenize import TweetTokenizer\n",
    "from sklearn.feature_extraction.text import TfidfVectorizer\n",
    "from sklearn.linear_model import LogisticRegression\n",
    "from sklearn.linear_model import SGDClassifier\n",
    "from sklearn.ensemble import RandomForestClassifier\n",
    "from xgboost import XGBClassifier\n",
    "from sklearn import tree\n",
    "import nltk.data\n",
    "\n",
    "nltk.download('stopwords')\n",
    "from nltk.corpus import stopwords\n",
    "\n",
    "\n",
    "tfidf = TfidfVectorizer(strip_accents=None, lowercase=False, preprocessor=None)\n",
    "tokenizer = TweetTokenizer()\n",
    "stop = stopwords.words('english')\n",
    "lr_clf = LogisticRegression(random_state=42)\n",
    "sgd_clf = SGDClassifier(loss='log_loss', random_state=42)\n",
    "rf_clf = RandomForestClassifier(n_estimators=20, random_state=42)\n",
    "xgb_clf = XGBClassifier(random_state=42)\n",
    "tree_clf = tree.DecisionTreeClassifier(random_state=42)\n",
    "param_grid = [{'vect__ngram_range': [(1, 1)],\n",
    "               'vect__stop_words': [stop, None]}]\n"
   ],
   "metadata": {
    "collapsed": false
   }
  },
  {
   "cell_type": "markdown",
   "source": [
    "### Find best model"
   ],
   "metadata": {
    "collapsed": false
   }
  },
  {
   "cell_type": "code",
   "execution_count": 4,
   "outputs": [
    {
     "name": "stdout",
     "output_type": "stream",
     "text": [
      "LR CREATED SUCCESSFULLY\n",
      "classifier algorithm = lr\n",
      "Number of mislabeled points out of a total 6393 points : 333\n",
      "Test Accuracy: 0.948\n",
      "SGD CREATED SUCCESSFULLY\n",
      "classifier algorithm = sgd\n",
      "Number of mislabeled points out of a total 6393 points : 395\n",
      "Test Accuracy: 0.938\n",
      "RF CREATED SUCCESSFULLY\n",
      "classifier algorithm = rf\n",
      "Number of mislabeled points out of a total 6393 points : 277\n",
      "Test Accuracy: 0.957\n",
      "XGB CREATED SUCCESSFULLY\n",
      "classifier algorithm = xgb\n",
      "Number of mislabeled points out of a total 6393 points : 318\n",
      "Test Accuracy: 0.950\n",
      "TREE CREATED SUCCESSFULLY\n",
      "classifier algorithm = tree\n",
      "Number of mislabeled points out of a total 6393 points : 355\n",
      "Test Accuracy: 0.944\n"
     ]
    }
   ],
   "source": [
    "all_classifiers = {'lr': lr_clf,\n",
    "                   'sgd': sgd_clf,\n",
    "                   'rf': rf_clf,\n",
    "                   'xgb': xgb_clf,\n",
    "                   'tree': tree_clf,\n",
    "                   }\n",
    "\n",
    "best_models = {}\n",
    "accuracy_dict = {}\n",
    "for clf_name, clf in all_classifiers.items():\n",
    "    with mlflow.start_run():\n",
    "        # assert run.info.experiment_id == EXP_ID\n",
    "        print(f\"{clf_name} created successfully\".upper())\n",
    "        tfidf_clf_pipe = Pipeline([('vect', tfidf), ('clf', clf)])\n",
    "        tfidf_clf_pipe_gs = GridSearchCV(tfidf_clf_pipe,\n",
    "                                         param_grid,\n",
    "                                         scoring='accuracy',\n",
    "                                         verbose=0,\n",
    "                                         cv=3,\n",
    "                                         n_jobs=-1)\n",
    "        tfidf_clf_pipe_gs.fit(texts_train, y_train)\n",
    "        best_model = tfidf_clf_pipe_gs.best_estimator_\n",
    "        best_models[clf] = best_model\n",
    "        y_pred = best_model.predict(texts_test)\n",
    "        acc = accuracy_score(y_test, y_pred)\n",
    "        accuracy_dict[clf_name] = acc\n",
    "        print('classifier algorithm = %s' % clf_name)\n",
    "        print(\"Number of mislabeled points out of a total %d points : %d\" % (\n",
    "            len(texts_test), (y_test != y_pred).sum()))\n",
    "        print('Test Accuracy: %.3f' % acc)"
   ],
   "metadata": {
    "collapsed": false
   }
  },
  {
   "cell_type": "markdown",
   "source": [
    "### Load the best model"
   ],
   "metadata": {
    "collapsed": false
   },
   "execution_count": 5
  },
  {
   "cell_type": "code",
   "execution_count": 6,
   "outputs": [],
   "source": [
    "# load the model\n",
    "final_model = pickle.load(open('best_pipe.pkl', 'rb'))\n",
    "transformer = pickle.load(open('tfidf.pkl', 'rb'))"
   ],
   "metadata": {
    "collapsed": false
   }
  },
  {
   "cell_type": "markdown",
   "source": [
    "### Predict"
   ],
   "metadata": {
    "collapsed": false
   }
  },
  {
   "cell_type": "code",
   "execution_count": 11,
   "outputs": [],
   "source": [
    "def classify(tweet):\n",
    "    label = {0: 'NON TOXIC', 1: 'TOXIC'}\n",
    "    X = transformer.transform([preprocessor(t) for t in [tweet]])\n",
    "    y = final_model.predict(X)[0]\n",
    "    proba = np.max(final_model.predict_proba(X))\n",
    "    return label[y], proba"
   ],
   "metadata": {
    "collapsed": false
   }
  },
  {
   "cell_type": "code",
   "execution_count": 12,
   "outputs": [
    {
     "data": {
      "text/plain": "('TOXIC', 0.95)"
     },
     "execution_count": 12,
     "metadata": {},
     "output_type": "execute_result"
    }
   ],
   "source": [
    "classify(\"@user #cnn calls #michigan middle school 'build the wall' chant '' #tcot\")"
   ],
   "metadata": {
    "collapsed": false
   }
  },
  {
   "cell_type": "code",
   "execution_count": 13,
   "outputs": [
    {
     "data": {
      "text/plain": "('NON TOXIC', 1.0)"
     },
     "execution_count": 13,
     "metadata": {},
     "output_type": "execute_result"
    }
   ],
   "source": [
    "classify(\"its #friday! ð smiles all around via ig user: @user #cookies make people\")"
   ],
   "metadata": {
    "collapsed": false
   }
  }
 ],
 "metadata": {
  "kernelspec": {
   "display_name": "Python 3",
   "language": "python",
   "name": "python3"
  },
  "language_info": {
   "codemirror_mode": {
    "name": "ipython",
    "version": 2
   },
   "file_extension": ".py",
   "mimetype": "text/x-python",
   "name": "python",
   "nbconvert_exporter": "python",
   "pygments_lexer": "ipython2",
   "version": "2.7.6"
  }
 },
 "nbformat": 4,
 "nbformat_minor": 0
}
